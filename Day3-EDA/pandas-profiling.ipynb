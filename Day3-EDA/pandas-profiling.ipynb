{
 "cells": [
  {
   "cell_type": "code",
   "execution_count": 1,
   "id": "3f85420d",
   "metadata": {},
   "outputs": [
    {
     "name": "stderr",
     "output_type": "stream",
     "text": [
      "d:\\Projects\\capstone-project\\myenv\\Lib\\site-packages\\tqdm\\auto.py:21: TqdmWarning: IProgress not found. Please update jupyter and ipywidgets. See https://ipywidgets.readthedocs.io/en/stable/user_install.html\n",
      "  from .autonotebook import tqdm as notebook_tqdm\n"
     ]
    },
    {
     "data": {
      "text/html": [
       "\n",
       "            <div>\n",
       "                <ins><a href=\"https://ydata.ai/register\">Upgrade to ydata-sdk</a></ins>\n",
       "                <p>\n",
       "                    Improve your data and profiling with ydata-sdk, featuring data quality scoring, redundancy detection, outlier identification, text validation, and synthetic data generation.\n",
       "                </p>\n",
       "            </div>\n",
       "            "
      ],
      "text/plain": [
       "<IPython.core.display.HTML object>"
      ]
     },
     "metadata": {},
     "output_type": "display_data"
    }
   ],
   "source": [
    "import pandas as pd\n",
    "from ydata_profiling import ProfileReport"
   ]
  },
  {
   "cell_type": "code",
   "execution_count": 2,
   "id": "0f9f0265",
   "metadata": {},
   "outputs": [
    {
     "name": "stderr",
     "output_type": "stream",
     "text": [
      "100%|██████████| 24/24 [00:00<00:00, 52.34it/s]0<00:00, 15.90it/s, Describe variable: facility_score]\n",
      "Summarize dataset: 100%|██████████| 134/134 [00:08<00:00, 15.71it/s, Completed]                                    \n",
      "Generate report structure: 100%|██████████| 1/1 [00:04<00:00,  4.76s/it]\n",
      "Render HTML: 100%|██████████| 1/1 [00:02<00:00,  2.44s/it]\n",
      "Export report to file: 100%|██████████| 1/1 [00:00<00:00, 35.56it/s]\n"
     ]
    }
   ],
   "source": [
    "df = pd.read_csv('../datasets/final_dataset_feature_engineered_v2.csv').drop_duplicates()\n",
    "\n",
    "profile = ProfileReport(df, title=\"Pandas Profiling Report\", explorative=True) # create a profile report\n",
    "profile.to_file(\"output_report.html\") # save the report to an HTML file"
   ]
  },
  {
   "cell_type": "code",
   "execution_count": null,
   "id": "aa124c0d",
   "metadata": {},
   "outputs": [],
   "source": []
  }
 ],
 "metadata": {
  "kernelspec": {
   "display_name": "myenv",
   "language": "python",
   "name": "python3"
  },
  "language_info": {
   "codemirror_mode": {
    "name": "ipython",
    "version": 3
   },
   "file_extension": ".py",
   "mimetype": "text/x-python",
   "name": "python",
   "nbconvert_exporter": "python",
   "pygments_lexer": "ipython3",
   "version": "3.11.7"
  }
 },
 "nbformat": 4,
 "nbformat_minor": 5
}
